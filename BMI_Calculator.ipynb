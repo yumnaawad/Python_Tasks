{
  "cells": [
    {
      "cell_type": "markdown",
      "metadata": {
        "id": "view-in-github",
        "colab_type": "text"
      },
      "source": [
        "<a href=\"https://colab.research.google.com/github/yumnaawad/Python_Tasks/blob/main/BMI_Calculator.ipynb\" target=\"_parent\"><img src=\"https://colab.research.google.com/assets/colab-badge.svg\" alt=\"Open In Colab\"/></a>"
      ]
    },
    {
      "cell_type": "code",
      "execution_count": 2,
      "metadata": {
        "id": "CjSiyiMB6NZY"
      },
      "outputs": [],
      "source": [
        "#function to receive values(weight and height from user)\n",
        "def get_height_and_weight():\n",
        "  global height\n",
        "  global weight\n",
        "  while True:\n",
        "    try:\n",
        "          height = float(input(\"Enter your height in cm: \"))\n",
        "          weight = float(input(\"Enter your weight in kg: \"))\n",
        "          if (weight < 1 or weight > 150)&(height < 10 or height > 300) :\n",
        "            print(\"Please input a valid integer.\")\n",
        "          else:\n",
        "            break\n",
        "    except ValueError:\n",
        "        print(\"Please input a valid integer.\")"
      ]
    },
    {
      "cell_type": "code",
      "execution_count": 3,
      "metadata": {
        "id": "fmlBfbJ5EXQ3"
      },
      "outputs": [],
      "source": [
        "# function to calucalte BMI\n",
        "def calculate_bmi(height,weight):\n",
        "  global BMI\n",
        "  BMI = weight / (height/100)**2\n",
        "  print(\"BMI value\" ,BMI)"
      ]
    },
    {
      "cell_type": "code",
      "execution_count": 4,
      "metadata": {
        "id": "gKkQE_2VEXWr"
      },
      "outputs": [],
      "source": [
        "#function to classify and find weight status\n",
        "def classify_into_categories(BMI):\n",
        "  if (BMI < 18.5):\n",
        "    print (\"Weight status :: under weight\")\n",
        "  if (BMI > 18.5) & (BMI <25 ):\n",
        "    print (\"Weight status :: normal weight\")\n",
        "  if (BMI >25):\n",
        "    print (\"Weight status :: over weight\")"
      ]
    },
    {
      "cell_type": "code",
      "execution_count": 6,
      "metadata": {
        "id": "4TeQfEM3EXZi",
        "colab": {
          "base_uri": "https://localhost:8080/"
        },
        "outputId": "0b4ed7f3-f21b-4ddf-8968-326caa91474c"
      },
      "outputs": [
        {
          "output_type": "stream",
          "name": "stdout",
          "text": [
            "Enter your height in cm: 156\n",
            "Enter your weight in kg: 70\n",
            "your BMI 28.763971071663377\n",
            "Weight status :: over weight\n"
          ]
        }
      ],
      "source": [
        "def main():\n",
        "  get_height_and_weight()\n",
        "  calculate_bmi(height,weight)\n",
        "  classify_into_categories(BMI)\n",
        "\n",
        "main(7)"
      ]
    }
  ],
  "metadata": {
    "colab": {
      "provenance": [],
      "authorship_tag": "ABX9TyOgTmUPWly16p8Te7CpSI4m",
      "include_colab_link": true
    },
    "kernelspec": {
      "display_name": "Python 3",
      "name": "python3"
    },
    "language_info": {
      "name": "python"
    }
  },
  "nbformat": 4,
  "nbformat_minor": 0
}