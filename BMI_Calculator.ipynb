{
 "cells": [
  {
   "cell_type": "code",
   "execution_count": null,
   "metadata": {},
   "outputs": [],
   "source": [
    "#function to receive values(weight and height from user)\n",
    "def get_height_and_weight():\n",
    "  global height\n",
    "  global weight\n",
    "  while True:\n",
    "    try:\n",
    "          height = float(input(\"Enter your height in cm: \"))\n",
    "          weight = float(input(\"Enter your weight in kg: \"))\n",
    "          if (weight < 1 or weight > 150)&(height < 10 or height > 300) :\n",
    "            print(\"Please input a valid integer.\")\n",
    "          else:\n",
    "            break\n",
    "    except ValueError:\n",
    "        print(\"Please input a valid integer.\")"
   ]
  },
  {
   "cell_type": "code",
   "execution_count": null,
   "metadata": {},
   "outputs": [],
   "source": [
    "# function to calcualte BMI\n",
    "def calculate_bmi(height,weight):\n",
    "  global BMI\n",
    "  BMI = weight / (height/100)**2\n",
    "  print(\"BMI value\" ,BMI)"
   ]
  },
  {
   "cell_type": "code",
   "execution_count": null,
   "metadata": {},
   "outputs": [],
   "source": [
    "#function to classify and find weight status\n",
    "def classify_into_categories(BMI):\n",
    "  if (BMI < 18.5):\n",
    "    print (\"Weight status :: under weight\")\n",
    "  if (BMI > 18.5) & (BMI <25 ):\n",
    "    print (\"Weight status :: normal weight\")\n",
    "  if (BMI >25):\n",
    "    print (\"Weight status :: over weight\")"
   ]
  },
  {
   "cell_type": "code",
   "execution_count": null,
   "metadata": {},
   "outputs": [],
   "source": [
    "def main():\n",
    "  get_height_and_weight()\n",
    "  calculate_bmi(height,weight)\n",
    "  classify_into_categories(BMI)\n",
    "\n",
    "main()"
   ]
  }
 ],
 "metadata": {
  "kernelspec": {
   "display_name": "Python 3",
   "language": "python",
   "name": "python3"
  },
  "language_info": {
   "codemirror_mode": {
    "name": "ipython",
    "version": 3
   },
   "file_extension": ".py",
   "mimetype": "text/x-python",
   "name": "python",
   "nbconvert_exporter": "python",
   "pygments_lexer": "ipython3",
   "version": "3.7.3"
  }
 },
 "nbformat": 4,
 "nbformat_minor": 2
}
